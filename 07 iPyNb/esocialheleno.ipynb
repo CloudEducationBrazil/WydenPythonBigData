{
  "cells": [
    {
      "cell_type": "code",
      "execution_count": null,
      "metadata": {
        "id": "ZDbg1GL5K488"
      },
      "outputs": [],
      "source": [
        "import os"
      ]
    },
    {
      "cell_type": "code",
      "execution_count": null,
      "metadata": {
        "id": "PmnRvySdLfW3"
      },
      "outputs": [],
      "source": [
        "from google.colab import drive"
      ]
    },
    {
      "cell_type": "code",
      "execution_count": null,
      "metadata": {
        "colab": {
          "base_uri": "https://localhost:8080/"
        },
        "id": "_PMURgOTLmwE",
        "outputId": "d2a95bd6-328f-48de-88c2-170521ab84f1"
      },
      "outputs": [
        {
          "name": "stdout",
          "output_type": "stream",
          "text": [
            "Collecting pdfplumber\n",
            "  Downloading pdfplumber-0.10.3-py3-none-any.whl (48 kB)\n",
            "\u001b[2K     \u001b[90m━━━━━━━━━━━━━━━━━━━━━━━━━━━━━━━━━━━━━━━━\u001b[0m \u001b[32m49.0/49.0 kB\u001b[0m \u001b[31m905.8 kB/s\u001b[0m eta \u001b[36m0:00:00\u001b[0m\n",
            "\u001b[?25hCollecting pdfminer.six==20221105 (from pdfplumber)\n",
            "  Downloading pdfminer.six-20221105-py3-none-any.whl (5.6 MB)\n",
            "\u001b[2K     \u001b[90m━━━━━━━━━━━━━━━━━━━━━━━━━━━━━━━━━━━━━━━━\u001b[0m \u001b[32m5.6/5.6 MB\u001b[0m \u001b[31m45.8 MB/s\u001b[0m eta \u001b[36m0:00:00\u001b[0m\n",
            "\u001b[?25hRequirement already satisfied: Pillow>=9.1 in /usr/local/lib/python3.10/dist-packages (from pdfplumber) (9.4.0)\n",
            "Collecting pypdfium2>=4.18.0 (from pdfplumber)\n",
            "  Downloading pypdfium2-4.25.0-py3-none-manylinux_2_17_x86_64.whl (3.0 MB)\n",
            "\u001b[2K     \u001b[90m━━━━━━━━━━━━━━━━━━━━━━━━━━━━━━━━━━━━━━━━\u001b[0m \u001b[32m3.0/3.0 MB\u001b[0m \u001b[31m64.9 MB/s\u001b[0m eta \u001b[36m0:00:00\u001b[0m\n",
            "\u001b[?25hRequirement already satisfied: charset-normalizer>=2.0.0 in /usr/local/lib/python3.10/dist-packages (from pdfminer.six==20221105->pdfplumber) (3.3.2)\n",
            "Requirement already satisfied: cryptography>=36.0.0 in /usr/local/lib/python3.10/dist-packages (from pdfminer.six==20221105->pdfplumber) (41.0.7)\n",
            "Requirement already satisfied: cffi>=1.12 in /usr/local/lib/python3.10/dist-packages (from cryptography>=36.0.0->pdfminer.six==20221105->pdfplumber) (1.16.0)\n",
            "Requirement already satisfied: pycparser in /usr/local/lib/python3.10/dist-packages (from cffi>=1.12->cryptography>=36.0.0->pdfminer.six==20221105->pdfplumber) (2.21)\n",
            "Installing collected packages: pypdfium2, pdfminer.six, pdfplumber\n",
            "Successfully installed pdfminer.six-20221105 pdfplumber-0.10.3 pypdfium2-4.25.0\n"
          ]
        }
      ],
      "source": [
        "!pip install pdfplumber"
      ]
    },
    {
      "cell_type": "code",
      "execution_count": null,
      "metadata": {
        "id": "esaKiMXHMCUv"
      },
      "outputs": [],
      "source": [
        "import pdfplumber"
      ]
    },
    {
      "cell_type": "code",
      "execution_count": null,
      "metadata": {
        "colab": {
          "base_uri": "https://localhost:8080/"
        },
        "id": "e6TTaEyFMIls",
        "outputId": "a26d5850-6427-4b0f-d065-9ef55f079950"
      },
      "outputs": [
        {
          "name": "stdout",
          "output_type": "stream",
          "text": [
            "Mounted at /content/gdrive/\n"
          ]
        }
      ],
      "source": [
        "drive.mount('/content/gdrive/')"
      ]
    },
    {
      "cell_type": "code",
      "execution_count": null,
      "metadata": {
        "id": "uTFnD_zpNTxv"
      },
      "outputs": [],
      "source": [
        "pdf = pdfplumber.open('/content/gdrive/MyDrive/esocial.pdf')"
      ]
    },
    {
      "cell_type": "code",
      "execution_count": null,
      "metadata": {
        "colab": {
          "base_uri": "https://localhost:8080/"
        },
        "id": "zwJl5GvjOByw",
        "outputId": "59c364e4-4691-4552-c563-ce7683f5677c"
      },
      "outputs": [
        {
          "data": {
            "text/plain": [
              "[<Page:1>]"
            ]
          },
          "execution_count": 11,
          "metadata": {},
          "output_type": "execute_result"
        }
      ],
      "source": [
        "pdf.pages"
      ]
    },
    {
      "cell_type": "code",
      "execution_count": null,
      "metadata": {
        "colab": {
          "base_uri": "https://localhost:8080/"
        },
        "id": "g3Ct5i4aONFM",
        "outputId": "f4197766-b437-4edf-c75e-a69b3ac665b7"
      },
      "outputs": [
        {
          "data": {
            "text/plain": [
              "{'Producer': 'iLovePDF', 'ModDate': 'D:20240104232029Z'}"
            ]
          },
          "execution_count": 13,
          "metadata": {},
          "output_type": "execute_result"
        }
      ],
      "source": [
        "pdf.metadata"
      ]
    },
    {
      "cell_type": "code",
      "execution_count": null,
      "metadata": {
        "id": "AGPd_ENEOgXU"
      },
      "outputs": [],
      "source": [
        "p1 = pdf.pages[0]"
      ]
    },
    {
      "cell_type": "code",
      "execution_count": null,
      "metadata": {
        "colab": {
          "base_uri": "https://localhost:8080/"
        },
        "id": "ppKE18clOmRa",
        "outputId": "59163a19-1b41-4a97-e519-1db5eadbf2e2"
      },
      "outputs": [
        {
          "name": "stdout",
          "output_type": "stream",
          "text": [
            "OCORRÊNCIAS DO HISTÓRICO SALARIAL\n",
            "ADICIONAL DE\n",
            "ADIC PERICUL VALE REFEIÇÃO\n",
            "MÊS/ANO PERICULOSIDADE HORAS EXTRAS 100% HORAS EXTRAS 50% PRODUTIVIDADE SALÁRIO BASE VALE REFEIÇÃO\n",
            "HEXTRAS PAGO\n",
            "PAGO\n",
            "03/2017 71,68 372,30 94,56 144,36 30,00 1.241,00 19,00 532,00\n",
            "04/2017 130,29 372,30 95,48 338,82 258,58 1.241,00 19,00 456,00\n",
            "05/2017 170,54 379,75 246,46 322,01 266,58 1.265,82 20,00 532,00\n",
            "06/2017 105,14 379,75 104,67 245,78 117,11 1.265,82 20,00 554,00\n",
            "07/2017 168,27 379,75 315,37 245,50 398,72 1.265,82 20,00 560,00\n",
            "08/2017 225,54 379,75 318,99 432,80 211,32 1.265,82 20,00 560,00\n",
            "09/2017 160,28 387,19 0,00 534,28 212,56 1.290,64 20,00 560,00\n",
            "10/2017 210,15 387,19 0,00 700,49 349,81 1.290,64 20,00 500,00\n",
            "11/2017 268,02 206,50 269,79 617,49 342,55 1.290,64 20,00 500,00\n",
            "12/2017 153,08 180,69 364,70 145,55 173,86 1.290,64 20,00 520,00\n",
            "01/2018 55,79 387,19 108,30 77,65 165,13 1.290,64 20,00 620,00\n",
            "02/2018 220,23 387,19 238,16 495,95 339,64 1.290,64 20,00 480,00\n",
            "03/2018 78,58 387,19 109,88 152,06 183,40 1.290,64 20,00 520,00\n",
            "04/2018 202,26 387,19 248,16 426,05 363,46 1.290,64 20,00 500,00\n",
            "05/2018 0,00 491,41 347,09 429,57 0,00 1.290,64 20,00 580,00\n",
            "Demonstrativo de Contribuição Social\n",
            "Contribuição Social sobre Salários Devidos - Período 09/02/2015 a 17/05/2018\n",
            "Nome: CONTRIBUIÇÃO SOCIAL SEGURADO (DESCONTAR DO PRINCIPAL)\n",
            "Base(s) para Salário Pago:\n",
            "Base(s) para Salário Devido: 13º SALÁRIO SOBRE HORAS EXTRAS 100% + 13º SALÁRIO SOBRE HORAS EXTRAS 100% - SUM 340 TST + 13º SALÁRIO SOBRE HORAS EXTRAS 50% + 13º SALÁRIO SOBRE\n",
            "HORAS EXTRAS 50% - SUM 340 TST + 13º SALÁRIO SOBRE INTERVALO INTRAJORNADA - 340 TST + 13º SALÁRIO SOBRE INTERVALO INTRAJORNADA ATÉ 10/11/2017 +\n",
            "FÉRIAS + 1/3 SOBRE HORAS EXTRAS 100% + FÉRIAS + 1/3 SOBRE HORAS EXTRAS 100% - SUM 340 TST + FÉRIAS + 1/3 SOBRE HORAS EXTRAS 50% + FÉRIAS + 1/3 SOBRE\n",
            "HORAS EXTRAS 50% - SUM 340 TST + FÉRIAS + 1/3 SOBRE INTERVALO INTRAJORNADA - 340 TST + FÉRIAS + 1/3 SOBRE INTERVALO INTRAJORNADA ATÉ 10/11/2017 +\n",
            "HORAS EXTRAS 100% + HORAS EXTRAS 100% - SUM 340 TST + HORAS EXTRAS 50% + HORAS EXTRAS 50% - SUM 340 TST + INTERVALO INTRAJORNADA - SUM 340 TST +\n",
            "INTERVALO INTRAJORNADA ATÉ 10/11/2017 + REPOUSO SEMANAL REMUNERADO E FERIADO SOBRE HORAS EXTRAS 100% - SUM 340 TST + REPOUSO SEMANAL\n",
            "REMUNERADO E FERIADO SOBRE HORAS EXTRAS 50% - SUM 340 TST + REPOUSO SEMANAL REMUNERADO E FERIADO SOBRE INTERVALO INTRAJORNADA - 340 TST +\n",
            "REPOUSO SEMANAL REMUNERADO SOBRE HORAS EXTRAS 100% + REPOUSO SEMANAL REMUNERADO SOBRE HORAS EXTRAS 50% + REPOUSO SEMANAL\n",
            "REMUNERADO SOBRE INTERVALO INTRAJORNADA ATÉ 10/11/2017\n",
            "Teto Segurado Contribuição Social Salário de Devido Segurado\n",
            "Ocorrência Salário Pago (A) Alíquota (B) Salário Devido (E) Alíquota (F) Índice correção Valor corrigido\n",
            "(C) Salário Pago (D) Contribuição (G)\n",
            "02/2015 0,00 8,00 % 513,01 0,00 934,14 934,14 8,00 % 74,73 1,000000000 74,73\n",
            "03/2015 0,00 8,00 % 513,01 0,00 2.426,71 2.426,71 11,00 % 266,94 1,000000000 266,94\n",
            "04/2015 0,00 8,00 % 513,01 0,00 1.951,40 1.951,40 9,00 % 175,63 1,000000000 175,63\n",
            "05/2015 0,00 8,00 % 513,01 0,00 2.259,20 2.259,20 9,00 % 203,33 1,000000000 203,33\n",
            "06/2015 0,00 8,00 % 513,01 0,00 1.976,28 1.976,28 9,00 % 177,87 1,000000000 177,87\n",
            "07/2015 0,00 8,00 % 513,01 0,00 1.875,28 1.875,28 9,00 % 168,78 1,000000000 168,78\n",
            "08/2015 0,00 8,00 % 513,01 0,00 2.502,23 2.502,23 11,00 % 275,25 1,000000000 275,25\n",
            "Cálculo liquidado por offline na versão 2.12.0 em 28/12/2023 às 13:24:11. Pág. 4 de 12\n"
          ]
        }
      ],
      "source": [
        "text = p1.extract_text()\n",
        "print(text)"
      ]
    },
    {
      "cell_type": "code",
      "execution_count": null,
      "metadata": {
        "id": "8fvmsa6HO075"
      },
      "outputs": [],
      "source": [
        "tabela = p1.extract_tables()"
      ]
    },
    {
      "cell_type": "code",
      "execution_count": null,
      "metadata": {
        "colab": {
          "base_uri": "https://localhost:8080/"
        },
        "id": "_yl3gV_QPh_H",
        "outputId": "d48b1e6d-55b9-4378-f992-ceaae9e38a47"
      },
      "outputs": [
        {
          "data": {
            "text/plain": [
              "[[['OCORRÊNCIAS DO HISTÓRICO SALARIAL',\n",
              "   None,\n",
              "   None,\n",
              "   None,\n",
              "   None,\n",
              "   None,\n",
              "   None,\n",
              "   None,\n",
              "   None],\n",
              "  ['MÊS/ANO',\n",
              "   'ADIC PERICUL\\nHEXTRAS',\n",
              "   'ADICIONAL DE\\nPERICULOSIDADE\\nPAGO',\n",
              "   'HORAS EXTRAS 100%',\n",
              "   'HORAS EXTRAS 50%',\n",
              "   'PRODUTIVIDADE',\n",
              "   'SALÁRIO BASE',\n",
              "   'VALE REFEIÇÃO',\n",
              "   'VALE REFEIÇÃO\\nPAGO'],\n",
              "  ['03/2017',\n",
              "   '71,68',\n",
              "   '372,30',\n",
              "   '94,56',\n",
              "   '144,36',\n",
              "   '30,00',\n",
              "   '1.241,00',\n",
              "   '19,00',\n",
              "   '532,00'],\n",
              "  ['04/2017',\n",
              "   '130,29',\n",
              "   '372,30',\n",
              "   '95,48',\n",
              "   '338,82',\n",
              "   '258,58',\n",
              "   '1.241,00',\n",
              "   '19,00',\n",
              "   '456,00'],\n",
              "  ['05/2017',\n",
              "   '170,54',\n",
              "   '379,75',\n",
              "   '246,46',\n",
              "   '322,01',\n",
              "   '266,58',\n",
              "   '1.265,82',\n",
              "   '20,00',\n",
              "   '532,00'],\n",
              "  ['06/2017',\n",
              "   '105,14',\n",
              "   '379,75',\n",
              "   '104,67',\n",
              "   '245,78',\n",
              "   '117,11',\n",
              "   '1.265,82',\n",
              "   '20,00',\n",
              "   '554,00'],\n",
              "  ['07/2017',\n",
              "   '168,27',\n",
              "   '379,75',\n",
              "   '315,37',\n",
              "   '245,50',\n",
              "   '398,72',\n",
              "   '1.265,82',\n",
              "   '20,00',\n",
              "   '560,00'],\n",
              "  ['08/2017',\n",
              "   '225,54',\n",
              "   '379,75',\n",
              "   '318,99',\n",
              "   '432,80',\n",
              "   '211,32',\n",
              "   '1.265,82',\n",
              "   '20,00',\n",
              "   '560,00'],\n",
              "  ['09/2017',\n",
              "   '160,28',\n",
              "   '387,19',\n",
              "   '0,00',\n",
              "   '534,28',\n",
              "   '212,56',\n",
              "   '1.290,64',\n",
              "   '20,00',\n",
              "   '560,00'],\n",
              "  ['10/2017',\n",
              "   '210,15',\n",
              "   '387,19',\n",
              "   '0,00',\n",
              "   '700,49',\n",
              "   '349,81',\n",
              "   '1.290,64',\n",
              "   '20,00',\n",
              "   '500,00'],\n",
              "  ['11/2017',\n",
              "   '268,02',\n",
              "   '206,50',\n",
              "   '269,79',\n",
              "   '617,49',\n",
              "   '342,55',\n",
              "   '1.290,64',\n",
              "   '20,00',\n",
              "   '500,00'],\n",
              "  ['12/2017',\n",
              "   '153,08',\n",
              "   '180,69',\n",
              "   '364,70',\n",
              "   '145,55',\n",
              "   '173,86',\n",
              "   '1.290,64',\n",
              "   '20,00',\n",
              "   '520,00'],\n",
              "  ['01/2018',\n",
              "   '55,79',\n",
              "   '387,19',\n",
              "   '108,30',\n",
              "   '77,65',\n",
              "   '165,13',\n",
              "   '1.290,64',\n",
              "   '20,00',\n",
              "   '620,00'],\n",
              "  ['02/2018',\n",
              "   '220,23',\n",
              "   '387,19',\n",
              "   '238,16',\n",
              "   '495,95',\n",
              "   '339,64',\n",
              "   '1.290,64',\n",
              "   '20,00',\n",
              "   '480,00'],\n",
              "  ['03/2018',\n",
              "   '78,58',\n",
              "   '387,19',\n",
              "   '109,88',\n",
              "   '152,06',\n",
              "   '183,40',\n",
              "   '1.290,64',\n",
              "   '20,00',\n",
              "   '520,00'],\n",
              "  ['04/2018',\n",
              "   '202,26',\n",
              "   '387,19',\n",
              "   '248,16',\n",
              "   '426,05',\n",
              "   '363,46',\n",
              "   '1.290,64',\n",
              "   '20,00',\n",
              "   '500,00'],\n",
              "  ['05/2018',\n",
              "   '0,00',\n",
              "   '491,41',\n",
              "   '347,09',\n",
              "   '429,57',\n",
              "   '0,00',\n",
              "   '1.290,64',\n",
              "   '20,00',\n",
              "   '580,00']],\n",
              " [['Nome: CONTRIBUIÇÃO SOCIAL SEGURADO (DESCONTAR DO PRINCIPAL)',\n",
              "   None,\n",
              "   None,\n",
              "   None,\n",
              "   None,\n",
              "   None,\n",
              "   None,\n",
              "   None,\n",
              "   None,\n",
              "   None,\n",
              "   None],\n",
              "  ['Base(s) para Salário Pago:',\n",
              "   None,\n",
              "   None,\n",
              "   None,\n",
              "   None,\n",
              "   None,\n",
              "   None,\n",
              "   None,\n",
              "   None,\n",
              "   None,\n",
              "   None],\n",
              "  ['Base(s) para Salário Devido: 13º SALÁRIO SOBRE HORAS EXTRAS 100% + 13º SALÁRIO SOBRE HORAS EXTRAS 100% - SUM 340 TST + 13º SALÁRIO SOBRE HORAS EXTRAS 50% + 13º SALÁRIO SOBRE\\nHORAS EXTRAS 50% - SUM 340 TST + 13º SALÁRIO SOBRE INTERVALO INTRAJORNADA - 340 TST + 13º SALÁRIO SOBRE INTERVALO INTRAJORNADA ATÉ 10/11/2017 +\\nFÉRIAS + 1/3 SOBRE HORAS EXTRAS 100% + FÉRIAS + 1/3 SOBRE HORAS EXTRAS 100% - SUM 340 TST + FÉRIAS + 1/3 SOBRE HORAS EXTRAS 50% + FÉRIAS + 1/3 SOBRE\\nHORAS EXTRAS 50% - SUM 340 TST + FÉRIAS + 1/3 SOBRE INTERVALO INTRAJORNADA - 340 TST + FÉRIAS + 1/3 SOBRE INTERVALO INTRAJORNADA ATÉ 10/11/2017 +\\nHORAS EXTRAS 100% + HORAS EXTRAS 100% - SUM 340 TST + HORAS EXTRAS 50% + HORAS EXTRAS 50% - SUM 340 TST + INTERVALO INTRAJORNADA - SUM 340 TST +\\nINTERVALO INTRAJORNADA ATÉ 10/11/2017 + REPOUSO SEMANAL REMUNERADO E FERIADO SOBRE HORAS EXTRAS 100% - SUM 340 TST + REPOUSO SEMANAL\\nREMUNERADO E FERIADO SOBRE HORAS EXTRAS 50% - SUM 340 TST + REPOUSO SEMANAL REMUNERADO E FERIADO SOBRE INTERVALO INTRAJORNADA - 340 TST +\\nREPOUSO SEMANAL REMUNERADO SOBRE HORAS EXTRAS 100% + REPOUSO SEMANAL REMUNERADO SOBRE HORAS EXTRAS 50% + REPOUSO SEMANAL\\nREMUNERADO SOBRE INTERVALO INTRAJORNADA ATÉ 10/11/2017',\n",
              "   None,\n",
              "   None,\n",
              "   None,\n",
              "   None,\n",
              "   None,\n",
              "   None,\n",
              "   None,\n",
              "   None,\n",
              "   None,\n",
              "   None],\n",
              "  ['Ocorrência',\n",
              "   'Salário Pago (A)',\n",
              "   'Alíquota (B)',\n",
              "   'Teto Segurado\\n(C)',\n",
              "   'Contribuição Social\\nSalário Pago (D)',\n",
              "   'Salário Devido (E)',\n",
              "   'Salário de\\nContribuição',\n",
              "   'Alíquota (F)',\n",
              "   'Devido Segurado\\n(G)',\n",
              "   'Índice correção',\n",
              "   'Valor corrigido'],\n",
              "  ['02/2015',\n",
              "   '0,00',\n",
              "   '8,00 %',\n",
              "   '513,01',\n",
              "   '0,00',\n",
              "   '934,14',\n",
              "   '934,14',\n",
              "   '8,00 %',\n",
              "   '74,73',\n",
              "   '1,000000000',\n",
              "   '74,73'],\n",
              "  ['03/2015',\n",
              "   '0,00',\n",
              "   '8,00 %',\n",
              "   '513,01',\n",
              "   '0,00',\n",
              "   '2.426,71',\n",
              "   '2.426,71',\n",
              "   '11,00 %',\n",
              "   '266,94',\n",
              "   '1,000000000',\n",
              "   '266,94'],\n",
              "  ['04/2015',\n",
              "   '0,00',\n",
              "   '8,00 %',\n",
              "   '513,01',\n",
              "   '0,00',\n",
              "   '1.951,40',\n",
              "   '1.951,40',\n",
              "   '9,00 %',\n",
              "   '175,63',\n",
              "   '1,000000000',\n",
              "   '175,63'],\n",
              "  ['05/2015',\n",
              "   '0,00',\n",
              "   '8,00 %',\n",
              "   '513,01',\n",
              "   '0,00',\n",
              "   '2.259,20',\n",
              "   '2.259,20',\n",
              "   '9,00 %',\n",
              "   '203,33',\n",
              "   '1,000000000',\n",
              "   '203,33'],\n",
              "  ['06/2015',\n",
              "   '0,00',\n",
              "   '8,00 %',\n",
              "   '513,01',\n",
              "   '0,00',\n",
              "   '1.976,28',\n",
              "   '1.976,28',\n",
              "   '9,00 %',\n",
              "   '177,87',\n",
              "   '1,000000000',\n",
              "   '177,87'],\n",
              "  ['07/2015',\n",
              "   '0,00',\n",
              "   '8,00 %',\n",
              "   '513,01',\n",
              "   '0,00',\n",
              "   '1.875,28',\n",
              "   '1.875,28',\n",
              "   '9,00 %',\n",
              "   '168,78',\n",
              "   '1,000000000',\n",
              "   '168,78'],\n",
              "  ['08/2015',\n",
              "   '0,00',\n",
              "   '8,00 %',\n",
              "   '513,01',\n",
              "   '0,00',\n",
              "   '2.502,23',\n",
              "   '2.502,23',\n",
              "   '11,00 %',\n",
              "   '275,25',\n",
              "   '1,000000000',\n",
              "   '275,25']]]"
            ]
          },
          "execution_count": 18,
          "metadata": {},
          "output_type": "execute_result"
        }
      ],
      "source": [
        "tabela\n"
      ]
    },
    {
      "cell_type": "code",
      "execution_count": null,
      "metadata": {
        "id": "mEPv0AbEQuOs"
      },
      "outputs": [],
      "source": [
        "import pandas as pd"
      ]
    },
    {
      "cell_type": "code",
      "execution_count": 62,
      "metadata": {
        "id": "hS1yDO_vQxu6"
      },
      "outputs": [],
      "source": [
        "df1 = pd.DataFrame(tabela[1:1], columns=tabela[1])\n",
        "df1.to_csv('segurado.csv', index=False)"
      ]
    }
  ],
  "metadata": {
    "colab": {
      "provenance": []
    },
    "kernelspec": {
      "display_name": "Python 3",
      "name": "python3"
    },
    "language_info": {
      "name": "python"
    }
  },
  "nbformat": 4,
  "nbformat_minor": 0
}